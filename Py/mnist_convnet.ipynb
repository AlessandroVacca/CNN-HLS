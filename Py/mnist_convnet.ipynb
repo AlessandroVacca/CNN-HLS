{
  "cells": [
    {
      "cell_type": "markdown",
      "metadata": {
        "id": "3hyvFS5rtyI0"
      },
      "source": [
        "# Simple MNIST convnet\n",
        "\n",
        "**Author:** [fchollet](https://twitter.com/fchollet)<br>\n",
        "**Date created:** 2015/06/19<br>\n",
        "**Last modified:** 2020/04/21<br>\n",
        "**Description:** A simple convnet that achieves ~99% test accuracy on MNIST."
      ]
    },
    {
      "cell_type": "markdown",
      "metadata": {
        "id": "N_sk4naetyI7"
      },
      "source": [
        "## Setup"
      ]
    },
    {
      "cell_type": "code",
      "execution_count": 2,
      "metadata": {
        "id": "1yoabv8ktyI8"
      },
      "outputs": [],
      "source": [
        "import numpy as np\n",
        "from tensorflow import keras\n",
        "from tensorflow.keras import layers"
      ]
    },
    {
      "cell_type": "markdown",
      "metadata": {
        "id": "qxNLJNH9tyI-"
      },
      "source": [
        "## Prepare the data"
      ]
    },
    {
      "cell_type": "code",
      "execution_count": 3,
      "metadata": {
        "colab": {
          "base_uri": "https://localhost:8080/"
        },
        "id": "GCikIPr1tyI_",
        "outputId": "d4603f29-b264-4f2b-a7eb-32655f4f255b"
      },
      "outputs": [
        {
          "output_type": "stream",
          "name": "stdout",
          "text": [
            "Downloading data from https://storage.googleapis.com/tensorflow/tf-keras-datasets/mnist.npz\n",
            "11493376/11490434 [==============================] - 0s 0us/step\n",
            "11501568/11490434 [==============================] - 0s 0us/step\n",
            "x_train shape: (60000, 28, 28, 1)\n",
            "60000 train samples\n",
            "10000 test samples\n"
          ]
        }
      ],
      "source": [
        "# Model / data parameters\n",
        "num_classes = 10\n",
        "input_shape = (28, 28, 1)\n",
        "\n",
        "# the data, split between train and test sets\n",
        "(x_train, y_train), (x_test, y_test) = keras.datasets.mnist.load_data()\n",
        "\n",
        "# Scale images to the [0, 1] range\n",
        "x_train = x_train.astype(\"float32\") / 255\n",
        "x_test = x_test.astype(\"float32\") / 255\n",
        "# Make sure images have shape (28, 28, 1)\n",
        "x_train = np.expand_dims(x_train, -1)\n",
        "x_test = np.expand_dims(x_test, -1)\n",
        "print(\"x_train shape:\", x_train.shape)\n",
        "print(x_train.shape[0], \"train samples\")\n",
        "print(x_test.shape[0], \"test samples\")\n",
        "\n",
        "\n",
        "# convert class vectors to binary class matrices\n",
        "y_train = keras.utils.to_categorical(y_train, num_classes)\n",
        "y_test = keras.utils.to_categorical(y_test, num_classes)"
      ]
    },
    {
      "cell_type": "markdown",
      "metadata": {
        "id": "HEjpwyfhtyJA"
      },
      "source": [
        "## Build the model"
      ]
    },
    {
      "cell_type": "code",
      "execution_count": 13,
      "metadata": {
        "colab": {
          "base_uri": "https://localhost:8080/"
        },
        "id": "ObV2HkTItyJA",
        "outputId": "58c610f3-ff2b-4688-cfd5-ae95f37a001a"
      },
      "outputs": [
        {
          "output_type": "stream",
          "name": "stdout",
          "text": [
            "Model: \"sequential_2\"\n",
            "_________________________________________________________________\n",
            " Layer (type)                Output Shape              Param #   \n",
            "=================================================================\n",
            " conv2d_3 (Conv2D)           (None, 26, 26, 32)        320       \n",
            "                                                                 \n",
            " max_pooling2d_3 (MaxPooling  (None, 13, 13, 32)       0         \n",
            " 2D)                                                             \n",
            "                                                                 \n",
            " flatten_2 (Flatten)         (None, 5408)              0         \n",
            "                                                                 \n",
            " dropout_2 (Dropout)         (None, 5408)              0         \n",
            "                                                                 \n",
            " dense_2 (Dense)             (None, 10)                54090     \n",
            "                                                                 \n",
            "=================================================================\n",
            "Total params: 54,410\n",
            "Trainable params: 54,410\n",
            "Non-trainable params: 0\n",
            "_________________________________________________________________\n"
          ]
        }
      ],
      "source": [
        "model = keras.Sequential(\n",
        "    [\n",
        "        keras.Input(shape=input_shape),\n",
        "        layers.Conv2D(32, kernel_size=(3, 3), strides = (1, 1), activation=\"relu\"),\n",
        "        layers.MaxPooling2D(pool_size=(2, 2)),\n",
        "        layers.Flatten(),\n",
        "        layers.Dropout(0.5),\n",
        "        layers.Dense(num_classes, activation=\"softmax\"),\n",
        "    ]\n",
        ")\n",
        "\n",
        "model.summary()"
      ]
    },
    {
      "cell_type": "code",
      "source": [
        "weights = model.layers[4].get_weights()[0]\n",
        "np.savetxt('output_weight.txt', weights, delimiter = ',')\n",
        "weights.shape"
      ],
      "metadata": {
        "colab": {
          "base_uri": "https://localhost:8080/"
        },
        "id": "Yef5cFz8uP7z",
        "outputId": "9a3d88b1-982d-4c18-b47b-77de446bc288"
      },
      "execution_count": 18,
      "outputs": [
        {
          "output_type": "execute_result",
          "data": {
            "text/plain": [
              "(5408, 10)"
            ]
          },
          "metadata": {},
          "execution_count": 18
        }
      ]
    },
    {
      "cell_type": "code",
      "source": [
        "bias = model.layers[4].get_weights()[1]\n",
        "np.savetxt('output_bias.txt', bias, delimiter = ',')\n",
        "len(bias)"
      ],
      "metadata": {
        "colab": {
          "base_uri": "https://localhost:8080/"
        },
        "id": "aTc7aebuvTSr",
        "outputId": "58401447-9758-470e-b21e-e4c0423fb4fb"
      },
      "execution_count": 16,
      "outputs": [
        {
          "output_type": "execute_result",
          "data": {
            "text/plain": [
              "10"
            ]
          },
          "metadata": {},
          "execution_count": 16
        }
      ]
    },
    {
      "cell_type": "markdown",
      "metadata": {
        "id": "6ER02KNHtyJB"
      },
      "source": [
        "## Train the model"
      ]
    },
    {
      "cell_type": "code",
      "execution_count": 19,
      "metadata": {
        "colab": {
          "base_uri": "https://localhost:8080/"
        },
        "id": "V2LBD45KtyJB",
        "outputId": "81c08210-0e82-4ecf-fad5-260a3122bfce"
      },
      "outputs": [
        {
          "output_type": "stream",
          "name": "stdout",
          "text": [
            "Epoch 1/15\n",
            "422/422 [==============================] - 13s 8ms/step - loss: 0.4242 - accuracy: 0.8825 - val_loss: 0.1566 - val_accuracy: 0.9575\n",
            "Epoch 2/15\n",
            "422/422 [==============================] - 3s 8ms/step - loss: 0.1753 - accuracy: 0.9494 - val_loss: 0.1009 - val_accuracy: 0.9728\n",
            "Epoch 3/15\n",
            "422/422 [==============================] - 3s 8ms/step - loss: 0.1320 - accuracy: 0.9615 - val_loss: 0.0787 - val_accuracy: 0.9795\n",
            "Epoch 4/15\n",
            "422/422 [==============================] - 3s 8ms/step - loss: 0.1104 - accuracy: 0.9678 - val_loss: 0.0711 - val_accuracy: 0.9818\n",
            "Epoch 5/15\n",
            "422/422 [==============================] - 3s 8ms/step - loss: 0.0978 - accuracy: 0.9701 - val_loss: 0.0634 - val_accuracy: 0.9828\n",
            "Epoch 6/15\n",
            "422/422 [==============================] - 3s 8ms/step - loss: 0.0916 - accuracy: 0.9719 - val_loss: 0.0613 - val_accuracy: 0.9837\n",
            "Epoch 7/15\n",
            "422/422 [==============================] - 3s 8ms/step - loss: 0.0844 - accuracy: 0.9738 - val_loss: 0.0569 - val_accuracy: 0.9845\n",
            "Epoch 8/15\n",
            "422/422 [==============================] - 3s 8ms/step - loss: 0.0784 - accuracy: 0.9762 - val_loss: 0.0554 - val_accuracy: 0.9847\n",
            "Epoch 9/15\n",
            "422/422 [==============================] - 3s 8ms/step - loss: 0.0735 - accuracy: 0.9776 - val_loss: 0.0516 - val_accuracy: 0.9860\n",
            "Epoch 10/15\n",
            "422/422 [==============================] - 3s 8ms/step - loss: 0.0721 - accuracy: 0.9778 - val_loss: 0.0524 - val_accuracy: 0.9850\n",
            "Epoch 11/15\n",
            "422/422 [==============================] - 3s 8ms/step - loss: 0.0671 - accuracy: 0.9796 - val_loss: 0.0529 - val_accuracy: 0.9858\n",
            "Epoch 12/15\n",
            "422/422 [==============================] - 3s 8ms/step - loss: 0.0640 - accuracy: 0.9802 - val_loss: 0.0524 - val_accuracy: 0.9867\n",
            "Epoch 13/15\n",
            "422/422 [==============================] - 3s 8ms/step - loss: 0.0617 - accuracy: 0.9809 - val_loss: 0.0513 - val_accuracy: 0.9867\n",
            "Epoch 14/15\n",
            "422/422 [==============================] - 3s 8ms/step - loss: 0.0594 - accuracy: 0.9814 - val_loss: 0.0500 - val_accuracy: 0.9868\n",
            "Epoch 15/15\n",
            "422/422 [==============================] - 3s 8ms/step - loss: 0.0555 - accuracy: 0.9827 - val_loss: 0.0506 - val_accuracy: 0.9858\n"
          ]
        },
        {
          "output_type": "execute_result",
          "data": {
            "text/plain": [
              "<keras.callbacks.History at 0x7fc74a79eb10>"
            ]
          },
          "metadata": {},
          "execution_count": 19
        }
      ],
      "source": [
        "batch_size = 128\n",
        "epochs = 15\n",
        "\n",
        "model.compile(loss=\"categorical_crossentropy\", optimizer=\"adam\", metrics=[\"accuracy\"])\n",
        "\n",
        "model.fit(x_train, y_train, batch_size=batch_size, epochs=epochs, validation_split=0.1)"
      ]
    },
    {
      "cell_type": "markdown",
      "metadata": {
        "id": "hSJPacPGtyJC"
      },
      "source": [
        "## Evaluate the trained model"
      ]
    },
    {
      "cell_type": "code",
      "execution_count": 21,
      "metadata": {
        "colab": {
          "base_uri": "https://localhost:8080/"
        },
        "id": "wDql8I-dtyJC",
        "outputId": "160bd7af-ab8f-4506-c5e8-e22a179d918b"
      },
      "outputs": [
        {
          "output_type": "stream",
          "name": "stdout",
          "text": [
            "Test loss: 0.05331087484955788\n",
            "Test accuracy: 0.983299970626831\n"
          ]
        }
      ],
      "source": [
        "score = model.evaluate(x_test, y_test, verbose=0)\n",
        "print(\"Test loss:\", score[0])\n",
        "print(\"Test accuracy:\", score[1])"
      ]
    },
    {
      "cell_type": "code",
      "source": [
        "index = 21\n",
        "out = model.predict(x_test[index:index + 1])\n",
        "np.argmax(out)\n"
      ],
      "metadata": {
        "colab": {
          "base_uri": "https://localhost:8080/"
        },
        "id": "w0ZFT9Zxy9gi",
        "outputId": "f7a592da-ae53-4eae-cf6a-76fc889d6bd1"
      },
      "execution_count": 40,
      "outputs": [
        {
          "output_type": "execute_result",
          "data": {
            "text/plain": [
              "6"
            ]
          },
          "metadata": {},
          "execution_count": 40
        }
      ]
    },
    {
      "cell_type": "code",
      "source": [
        "import matplotlib.pyplot as plt\n",
        "plt.imshow(x_test[index][:,:,0])"
      ],
      "metadata": {
        "colab": {
          "base_uri": "https://localhost:8080/",
          "height": 282
        },
        "id": "f96hM86mzlKf",
        "outputId": "6bd3c8ff-b6eb-4c4c-cd58-6762d9101090"
      },
      "execution_count": 41,
      "outputs": [
        {
          "output_type": "execute_result",
          "data": {
            "text/plain": [
              "<matplotlib.image.AxesImage at 0x7fc748223f50>"
            ]
          },
          "metadata": {},
          "execution_count": 41
        },
        {
          "output_type": "display_data",
          "data": {
            "image/png": "[encoded data removed]",
            "text/plain": [
              "<Figure size 432x288 with 1 Axes>"
            ]
          },
          "metadata": {
            "needs_background": "light"
          }
        }
      ]
    },
    {
      "cell_type": "code",
      "source": [
        "import time\n",
        "start = time.time()\n",
        "for _ in range(100): \n",
        "  out = model.predict(x_test[index:index + 1])\n",
        "end = time.time()\n",
        "print((end - start)/100)\n"
      ],
      "metadata": {
        "colab": {
          "base_uri": "https://localhost:8080/"
        },
        "id": "0-qBqI6Iz1Oo",
        "outputId": "b8ee4547-1322-4b04-94dd-25fa5466c0ac"
      },
      "execution_count": 46,
      "outputs": [
        {
          "output_type": "stream",
          "name": "stdout",
          "text": [
            "0.052080268859863284\n"
          ]
        }
      ]
    },
    {
      "cell_type": "code",
      "source": [
        ""
      ],
      "metadata": {
        "id": "uc5O7zxz07v5"
      },
      "execution_count": null,
      "outputs": []
    }
  ],
  "metadata": {
    "colab": {
      "collapsed_sections": [],
      "name": "mnist_convnet",
      "provenance": []
    },
    "kernelspec": {
      "display_name": "Python 3",
      "language": "python",
      "name": "python3"
    },
    "language_info": {
      "codemirror_mode": {
        "name": "ipython",
        "version": 3
      },
      "file_extension": ".py",
      "mimetype": "text/x-python",
      "name": "python",
      "nbconvert_exporter": "python",
      "pygments_lexer": "ipython3",
      "version": "3.7.0"
    },
    "accelerator": "GPU"
  },
  "nbformat": 4,
  "nbformat_minor": 0
}
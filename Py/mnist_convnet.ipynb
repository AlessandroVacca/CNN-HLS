{
  "cells": [
    {
      "cell_type": "markdown",
      "metadata": {
        "id": "3hyvFS5rtyI0"
      },
      "source": [
        "# Simple MNIST convnet\n",
        "\n",
        "**Author:** [fchollet](https://twitter.com/fchollet)<br>\n",
        "**Date created:** 2015/06/19<br>\n",
        "**Last modified:** 2020/04/21<br>\n",
        "**Description:** A simple convnet that achieves ~99% test accuracy on MNIST."
      ]
    },
    {
      "cell_type": "markdown",
      "metadata": {
        "id": "N_sk4naetyI7"
      },
      "source": [
        "## Setup"
      ]
    },
    {
      "cell_type": "code",
      "execution_count": 1,
      "metadata": {
        "id": "1yoabv8ktyI8"
      },
      "outputs": [],
      "source": [
        "import numpy as np\n",
        "from tensorflow import keras\n",
        "from tensorflow.keras import layers"
      ]
    },
    {
      "cell_type": "markdown",
      "metadata": {
        "id": "qxNLJNH9tyI-"
      },
      "source": [
        "## Prepare the data"
      ]
    },
    {
      "cell_type": "code",
      "execution_count": 2,
      "metadata": {
        "colab": {
          "base_uri": "https://localhost:8080/"
        },
        "id": "GCikIPr1tyI_",
        "outputId": "b4759acd-46d4-43dd-d7dd-b474328a136b"
      },
      "outputs": [
        {
          "output_type": "stream",
          "name": "stdout",
          "text": [
            "Downloading data from https://storage.googleapis.com/tensorflow/tf-keras-datasets/mnist.npz\n",
            "11493376/11490434 [==============================] - 0s 0us/step\n",
            "11501568/11490434 [==============================] - 0s 0us/step\n",
            "x_train shape: (60000, 28, 28, 1)\n",
            "60000 train samples\n",
            "10000 test samples\n"
          ]
        }
      ],
      "source": [
        "# Model / data parameters\n",
        "num_classes = 10\n",
        "input_shape = (28, 28, 1)\n",
        "\n",
        "# the data, split between train and test sets\n",
        "(x_train, y_train), (x_test, y_test) = keras.datasets.mnist.load_data()\n",
        "\n",
        "# Scale images to the [0, 1] range\n",
        "x_train = x_train.astype(\"float32\") / 255\n",
        "x_test = x_test.astype(\"float32\") / 255\n",
        "# Make sure images have shape (28, 28, 1)\n",
        "x_train = np.expand_dims(x_train, -1)\n",
        "x_test = np.expand_dims(x_test, -1)\n",
        "print(\"x_train shape:\", x_train.shape)\n",
        "print(x_train.shape[0], \"train samples\")\n",
        "print(x_test.shape[0], \"test samples\")\n",
        "\n",
        "\n",
        "# convert class vectors to binary class matrices\n",
        "y_train = keras.utils.to_categorical(y_train, num_classes)\n",
        "y_test = keras.utils.to_categorical(y_test, num_classes)"
      ]
    },
    {
      "cell_type": "markdown",
      "metadata": {
        "id": "HEjpwyfhtyJA"
      },
      "source": [
        "## Build the model"
      ]
    },
    {
      "cell_type": "code",
      "execution_count": 3,
      "metadata": {
        "colab": {
          "base_uri": "https://localhost:8080/"
        },
        "id": "ObV2HkTItyJA",
        "outputId": "9c422786-3f06-4035-9a55-1851c596410b"
      },
      "outputs": [
        {
          "output_type": "stream",
          "name": "stdout",
          "text": [
            "Model: \"sequential\"\n",
            "_________________________________________________________________\n",
            " Layer (type)                Output Shape              Param #   \n",
            "=================================================================\n",
            " conv2d (Conv2D)             (None, 26, 26, 32)        320       \n",
            "                                                                 \n",
            " max_pooling2d (MaxPooling2D  (None, 13, 13, 32)       0         \n",
            " )                                                               \n",
            "                                                                 \n",
            " flatten (Flatten)           (None, 5408)              0         \n",
            "                                                                 \n",
            " dropout (Dropout)           (None, 5408)              0         \n",
            "                                                                 \n",
            " dense (Dense)               (None, 10)                54090     \n",
            "                                                                 \n",
            "=================================================================\n",
            "Total params: 54,410\n",
            "Trainable params: 54,410\n",
            "Non-trainable params: 0\n",
            "_________________________________________________________________\n"
          ]
        }
      ],
      "source": [
        "model = keras.Sequential(\n",
        "    [\n",
        "        keras.Input(shape=input_shape),\n",
        "        layers.Conv2D(32, kernel_size=(3, 3), strides = (1, 1), activation=\"relu\"),\n",
        "        layers.MaxPooling2D(pool_size=(2, 2)),\n",
        "        layers.Flatten(),\n",
        "        layers.Dropout(0.5),\n",
        "        layers.Dense(num_classes, activation=\"softmax\"),\n",
        "    ]\n",
        ")\n",
        "\n",
        "model.summary()"
      ]
    },
    {
      "cell_type": "markdown",
      "metadata": {
        "id": "6ER02KNHtyJB"
      },
      "source": [
        "## Train the model"
      ]
    },
    {
      "cell_type": "code",
      "execution_count": 6,
      "metadata": {
        "colab": {
          "base_uri": "https://localhost:8080/"
        },
        "id": "V2LBD45KtyJB",
        "outputId": "8c2e383c-b8b1-434b-d347-a9b8b00d12fc"
      },
      "outputs": [
        {
          "output_type": "stream",
          "name": "stdout",
          "text": [
            "Epoch 1/15\n",
            "422/422 [==============================] - 13s 9ms/step - loss: 0.4302 - accuracy: 0.8802 - val_loss: 0.1570 - val_accuracy: 0.9573\n",
            "Epoch 2/15\n",
            "422/422 [==============================] - 3s 7ms/step - loss: 0.1836 - accuracy: 0.9464 - val_loss: 0.1027 - val_accuracy: 0.9738\n",
            "Epoch 3/15\n",
            "422/422 [==============================] - 3s 8ms/step - loss: 0.1380 - accuracy: 0.9588 - val_loss: 0.0812 - val_accuracy: 0.9803\n",
            "Epoch 4/15\n",
            "422/422 [==============================] - 4s 8ms/step - loss: 0.1170 - accuracy: 0.9648 - val_loss: 0.0726 - val_accuracy: 0.9808\n",
            "Epoch 5/15\n",
            "422/422 [==============================] - 3s 8ms/step - loss: 0.1030 - accuracy: 0.9688 - val_loss: 0.0666 - val_accuracy: 0.9827\n",
            "Epoch 6/15\n",
            "422/422 [==============================] - 3s 7ms/step - loss: 0.0929 - accuracy: 0.9713 - val_loss: 0.0591 - val_accuracy: 0.9855\n",
            "Epoch 7/15\n",
            "422/422 [==============================] - 3s 7ms/step - loss: 0.0879 - accuracy: 0.9729 - val_loss: 0.0578 - val_accuracy: 0.9862\n",
            "Epoch 8/15\n",
            "422/422 [==============================] - 3s 7ms/step - loss: 0.0813 - accuracy: 0.9744 - val_loss: 0.0594 - val_accuracy: 0.9847\n",
            "Epoch 9/15\n",
            "422/422 [==============================] - 3s 7ms/step - loss: 0.0785 - accuracy: 0.9762 - val_loss: 0.0548 - val_accuracy: 0.9852\n",
            "Epoch 10/15\n",
            "422/422 [==============================] - 3s 7ms/step - loss: 0.0749 - accuracy: 0.9771 - val_loss: 0.0530 - val_accuracy: 0.9868\n",
            "Epoch 11/15\n",
            "422/422 [==============================] - 3s 7ms/step - loss: 0.0694 - accuracy: 0.9781 - val_loss: 0.0531 - val_accuracy: 0.9865\n",
            "Epoch 12/15\n",
            "422/422 [==============================] - 3s 8ms/step - loss: 0.0693 - accuracy: 0.9781 - val_loss: 0.0504 - val_accuracy: 0.9855\n",
            "Epoch 13/15\n",
            "422/422 [==============================] - 3s 8ms/step - loss: 0.0675 - accuracy: 0.9789 - val_loss: 0.0494 - val_accuracy: 0.9872\n",
            "Epoch 14/15\n",
            "422/422 [==============================] - 3s 8ms/step - loss: 0.0633 - accuracy: 0.9793 - val_loss: 0.0491 - val_accuracy: 0.9867\n",
            "Epoch 15/15\n",
            "422/422 [==============================] - 3s 8ms/step - loss: 0.0605 - accuracy: 0.9809 - val_loss: 0.0489 - val_accuracy: 0.9863\n"
          ]
        },
        {
          "output_type": "execute_result",
          "data": {
            "text/plain": [
              "<keras.callbacks.History at 0x7f871b6e6a50>"
            ]
          },
          "metadata": {},
          "execution_count": 6
        }
      ],
      "source": [
        "batch_size = 128\n",
        "epochs = 15\n",
        "\n",
        "model.compile(loss=\"categorical_crossentropy\", optimizer=\"adam\", metrics=[\"accuracy\"])\n",
        "\n",
        "model.fit(x_train, y_train, batch_size=batch_size, epochs=epochs, validation_split=0.1)"
      ]
    },
    {
      "cell_type": "markdown",
      "source": [
        "# Save weights and biases & intermediate layer output value\n",
        "\n",
        "*   weights are saved in order to reproduce the network behaviour\n",
        "\n",
        "*   intermediate layer output value is saved in order to test the c implementation ( step by step )\n",
        "\n"
      ],
      "metadata": {
        "id": "aDf_6AiIXDFN"
      }
    },
    {
      "cell_type": "code",
      "source": [
        "# MODEL LAYERS: \n",
        "model.layers"
      ],
      "metadata": {
        "colab": {
          "base_uri": "https://localhost:8080/"
        },
        "id": "glNuXKqxY6Om",
        "outputId": "d03e4cfa-3219-4fef-e4cd-176d6d62bf5d"
      },
      "execution_count": 11,
      "outputs": [
        {
          "output_type": "execute_result",
          "data": {
            "text/plain": [
              "[<keras.layers.convolutional.Conv2D at 0x7f8794aa2f90>,\n",
              " <keras.layers.pooling.MaxPooling2D at 0x7f8794a44410>,\n",
              " <keras.layers.core.flatten.Flatten at 0x7f8794a44dd0>,\n",
              " <keras.layers.core.dropout.Dropout at 0x7f8794a44e90>,\n",
              " <keras.layers.core.dense.Dense at 0x7f8794a44b50>]"
            ]
          },
          "metadata": {},
          "execution_count": 11
        }
      ]
    },
    {
      "cell_type": "code",
      "source": [
        "weights_conv = model.layers[4].get_weights()[0]\n",
        "np.savetxt('weights_conv.txt', weights_conv, delimiter = ',')\n",
        "print(\"weights_conv.shape: \",weights_conv.shape)\n",
        "\n",
        "bias_conv = model.layers[4].get_weights()[1]\n",
        "np.savetxt('bias_conv.txt', bias_conv, delimiter = ',')\n",
        "print(\"bias_conv.shape: \",bias_conv.shape)\n",
        "\n",
        "weights_dense = model.layers[4].get_weights()[0]\n",
        "np.savetxt('weights_dense.txt', weights_dense, delimiter = ',')\n",
        "print(\"weights_dense.shape: \",weights_dense.shape)\n",
        "\n",
        "bias_dense = model.layers[4].get_weights()[1]\n",
        "np.savetxt('bias_dense.txt', bias_dense, delimiter = ',')\n",
        "print(\"bias_dense.shape: \",bias_dense.shape)\n"
      ],
      "metadata": {
        "colab": {
          "base_uri": "https://localhost:8080/"
        },
        "id": "UV1R9LSWXBiM",
        "outputId": "45d57c71-4767-41ca-b884-a984b5e20dba"
      },
      "execution_count": 40,
      "outputs": [
        {
          "output_type": "stream",
          "name": "stdout",
          "text": [
            "weights_conv.shape:  (5408, 10)\n",
            "bias_conv.shape:  (10,)\n",
            "weights_dense.shape:  (5408, 10)\n",
            "bias_dense.shape:  (10,)\n"
          ]
        }
      ]
    },
    {
      "cell_type": "code",
      "source": [
        "# INTERMEDIATE LAYER OUTPUT\n",
        "\n",
        "extractor = keras.Model(inputs=model.inputs,\n",
        "                        outputs=[layer.output for layer in model.layers])\n",
        "input = x_train[0:1]\n",
        "features = extractor(input)\n",
        "\n",
        "# save intermediate layers\n",
        "for layer_data, layer in zip(features, model.layers):\n",
        "  print(layer.name,\" \",layer_data.shape)\n",
        "  reshaped_array = np.reshape(layer_data.numpy(), [1,-1], order=\"C\")\n",
        "  np.savetxt(layer.name+'_out.txt', reshaped_array, delimiter = ',')\n"
      ],
      "metadata": {
        "colab": {
          "base_uri": "https://localhost:8080/"
        },
        "id": "r5GyNUp4Zqqv",
        "outputId": "81da4e04-65d0-4267-c206-3290d54ff7f1"
      },
      "execution_count": 59,
      "outputs": [
        {
          "output_type": "stream",
          "name": "stdout",
          "text": [
            "conv2d   (1, 26, 26, 32)\n",
            "max_pooling2d   (1, 13, 13, 32)\n",
            "flatten   (1, 5408)\n",
            "dropout   (1, 5408)\n",
            "dense   (1, 10)\n"
          ]
        }
      ]
    },
    {
      "cell_type": "markdown",
      "metadata": {
        "id": "hSJPacPGtyJC"
      },
      "source": [
        "## Evaluate the trained model"
      ]
    },
    {
      "cell_type": "code",
      "execution_count": null,
      "metadata": {
        "colab": {
          "base_uri": "https://localhost:8080/"
        },
        "id": "wDql8I-dtyJC",
        "outputId": "160bd7af-ab8f-4506-c5e8-e22a179d918b"
      },
      "outputs": [
        {
          "output_type": "stream",
          "name": "stdout",
          "text": [
            "Test loss: 0.05331087484955788\n",
            "Test accuracy: 0.983299970626831\n"
          ]
        }
      ],
      "source": [
        "score = model.evaluate(x_test, y_test, verbose=0)\n",
        "print(\"Test loss:\", score[0])\n",
        "print(\"Test accuracy:\", score[1])"
      ]
    },
    {
      "cell_type": "code",
      "source": [
        "index = 21\n",
        "out = model.predict(x_test[index:index + 1])\n",
        "np.argmax(out)\n"
      ],
      "metadata": {
        "colab": {
          "base_uri": "https://localhost:8080/"
        },
        "id": "w0ZFT9Zxy9gi",
        "outputId": "f7a592da-ae53-4eae-cf6a-76fc889d6bd1"
      },
      "execution_count": null,
      "outputs": [
        {
          "output_type": "execute_result",
          "data": {
            "text/plain": [
              "6"
            ]
          },
          "metadata": {},
          "execution_count": 40
        }
      ]
    },
    {
      "cell_type": "code",
      "source": [
        "import matplotlib.pyplot as plt\n",
        "plt.imshow(x_test[index][:,:,0])"
      ],
      "metadata": {
        "colab": {
          "base_uri": "https://localhost:8080/",
          "height": 282
        },
        "id": "f96hM86mzlKf",
        "outputId": "6bd3c8ff-b6eb-4c4c-cd58-6762d9101090"
      },
      "execution_count": null,
      "outputs": [
        {
          "output_type": "execute_result",
          "data": {
            "text/plain": [
              "<matplotlib.image.AxesImage at 0x7fc748223f50>"
            ]
          },
          "metadata": {},
          "execution_count": 41
        },
        {
          "output_type": "display_data",
          "data": {
            "image/png": "[encoded data removed]",
            "text/plain": [
              "<Figure size 432x288 with 1 Axes>"
            ]
          },
          "metadata": {
            "needs_background": "light"
          }
        }
      ]
    },
    {
      "cell_type": "code",
      "source": [
        "import time\n",
        "start = time.time()\n",
        "for _ in range(100): \n",
        "  out = model.predict(x_test[index:index + 1])\n",
        "end = time.time()\n",
        "print((end - start)/100)\n"
      ],
      "metadata": {
        "colab": {
          "base_uri": "https://localhost:8080/"
        },
        "id": "0-qBqI6Iz1Oo",
        "outputId": "b8ee4547-1322-4b04-94dd-25fa5466c0ac"
      },
      "execution_count": null,
      "outputs": [
        {
          "output_type": "stream",
          "name": "stdout",
          "text": [
            "0.052080268859863284\n"
          ]
        }
      ]
    },
    {
      "cell_type": "code",
      "source": [
        ""
      ],
      "metadata": {
        "id": "uc5O7zxz07v5"
      },
      "execution_count": null,
      "outputs": []
    }
  ],
  "metadata": {
    "colab": {
      "collapsed_sections": [],
      "name": "mnist_convnet.ipynb",
      "provenance": []
    },
    "kernelspec": {
      "display_name": "Python 3",
      "language": "python",
      "name": "python3"
    },
    "language_info": {
      "codemirror_mode": {
        "name": "ipython",
        "version": 3
      },
      "file_extension": ".py",
      "mimetype": "text/x-python",
      "name": "python",
      "nbconvert_exporter": "python",
      "pygments_lexer": "ipython3",
      "version": "3.7.0"
    },
    "accelerator": "GPU"
  },
  "nbformat": 4,
  "nbformat_minor": 0
}
